{
 "cells": [
  {
   "cell_type": "markdown",
   "id": "1bc6f017-19ce-4a60-baff-bad06cc60767",
   "metadata": {},
   "source": [
    "**Face Detection with Python using OpenCV**"
   ]
  },
  {
   "cell_type": "markdown",
   "id": "344585d5-7b48-41be-8dd1-8ec38b91165c",
   "metadata": {},
   "source": [
    "Installing OpenCV module"
   ]
  },
  {
   "cell_type": "code",
   "execution_count": 82,
   "id": "026f5a51-ab9e-442d-87d2-b06baba13709",
   "metadata": {},
   "outputs": [
    {
     "name": "stdout",
     "output_type": "stream",
     "text": [
      "Requirement already satisfied: opencv-python in c:\\users\\hp\\anaconda3\\lib\\site-packages (4.10.0.84)\n",
      "Requirement already satisfied: numpy>=1.21.2 in c:\\users\\hp\\anaconda3\\lib\\site-packages (from opencv-python) (1.26.4)\n"
     ]
    }
   ],
   "source": [
    "!pip install opencv-python"
   ]
  },
  {
   "cell_type": "markdown",
   "id": "eb750b51-77d1-4660-a86d-5c6005aaa3ac",
   "metadata": {},
   "source": [
    "Importing the OpenCV library"
   ]
  },
  {
   "cell_type": "code",
   "execution_count": 85,
   "id": "f5fc951b-5dd7-43e6-b708-bd4d21c088c0",
   "metadata": {},
   "outputs": [],
   "source": [
    "import cv2"
   ]
  },
  {
   "cell_type": "markdown",
   "id": "9cf4ff57-771c-4e18-9ca5-cb7f955b174c",
   "metadata": {},
   "source": [
    "Using pre-trained classifier from OpenCV"
   ]
  },
  {
   "cell_type": "code",
   "execution_count": 88,
   "id": "473eaf0e-b094-4785-b81f-393c226a01fc",
   "metadata": {},
   "outputs": [],
   "source": [
    "face_cascade = cv2.CascadeClassifier(cv2.data.haarcascades + 'haarcascade_frontalface_default.xml')"
   ]
  },
  {
   "cell_type": "markdown",
   "id": "11a8a448-1d89-45ca-851b-4bb496965156",
   "metadata": {},
   "source": [
    "Upload the input image"
   ]
  },
  {
   "cell_type": "code",
   "execution_count": 102,
   "id": "eae1a858-395f-4a21-94e3-5652ff884f5e",
   "metadata": {},
   "outputs": [],
   "source": [
    "img = cv2.imread(r\"C:\\Users\\Hp\\Pictures\\IMG20240706105224.jpg\")"
   ]
  },
  {
   "cell_type": "markdown",
   "id": "92a73564-ae6f-490c-b2d7-f3186680ae24",
   "metadata": {},
   "source": [
    "Perform face detection"
   ]
  },
  {
   "cell_type": "code",
   "execution_count": 105,
   "id": "d6a4a6f9-14a3-4489-ba74-50cddcf812a2",
   "metadata": {},
   "outputs": [],
   "source": [
    "faces = face_cascade.detectMultiScale(img, 1.1, 4)"
   ]
  },
  {
   "cell_type": "markdown",
   "id": "72b1ca24-5142-4e0b-8539-7dad921ec8bc",
   "metadata": {},
   "source": [
    "Drawing rectangle around the faces"
   ]
  },
  {
   "cell_type": "code",
   "execution_count": 108,
   "id": "69b56c0e-44bb-4817-91ea-9e5b5b5b7691",
   "metadata": {},
   "outputs": [],
   "source": [
    "for x,y,w,h in faces:\n",
    "    cv2.rectangle(img, (x,y), (x+w, y+h), (255,0,0), 2)"
   ]
  },
  {
   "cell_type": "markdown",
   "id": "32b0defa-3339-485b-b1b9-8acb01625f2d",
   "metadata": {},
   "source": [
    "Exporting the image file"
   ]
  },
  {
   "cell_type": "code",
   "execution_count": 111,
   "id": "29b7ba60-6873-4750-8a7d-b0347ecd1a85",
   "metadata": {},
   "outputs": [
    {
     "name": "stdout",
     "output_type": "stream",
     "text": [
      "Photo successfully exported!\n"
     ]
    }
   ],
   "source": [
    "cv2.imwrite(\"face_detected.png\", img)\n",
    "print(\"Photo successfully exported!\")"
   ]
  },
  {
   "cell_type": "code",
   "execution_count": null,
   "id": "e7030031-07d2-4fe9-be33-b48f0e5d7b62",
   "metadata": {},
   "outputs": [],
   "source": []
  }
 ],
 "metadata": {
  "kernelspec": {
   "display_name": "Python 3 (ipykernel)",
   "language": "python",
   "name": "python3"
  },
  "language_info": {
   "codemirror_mode": {
    "name": "ipython",
    "version": 3
   },
   "file_extension": ".py",
   "mimetype": "text/x-python",
   "name": "python",
   "nbconvert_exporter": "python",
   "pygments_lexer": "ipython3",
   "version": "3.12.4"
  }
 },
 "nbformat": 4,
 "nbformat_minor": 5
}
